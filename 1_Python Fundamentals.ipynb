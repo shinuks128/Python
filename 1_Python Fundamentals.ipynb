{
 "cells": [
  {
   "cell_type": "code",
   "execution_count": 4,
   "id": "c670cf04-0046-4db1-9403-f36acd5a35ef",
   "metadata": {},
   "outputs": [
    {
     "name": "stdout",
     "output_type": "stream",
     "text": [
      "shinu ST1001 shinu128@gmail.com\n"
     ]
    }
   ],
   "source": [
    "name = \"shinu\"\n",
    "student_number = \"ST1001\"\n",
    "email = \"shinu128@gmail.com\"\n",
    "print(name, student_number, email) "
   ]
  },
  {
   "cell_type": "code",
   "execution_count": 6,
   "id": "6f6080b5-53c5-495b-87b3-5e32d11149ef",
   "metadata": {},
   "outputs": [
    {
     "name": "stdout",
     "output_type": "stream",
     "text": [
      "shinu\tST1001\tshinu128@gmail.com\n"
     ]
    }
   ],
   "source": [
    "name = \"shinu\"\n",
    "student_number = \"ST1001\"\n",
    "email = \"shinu128@gmail.com\"\n",
    "\n",
    "print(name + \"\\t\" + student_number + \"\\t\" + email)\n"
   ]
  },
  {
   "cell_type": "code",
   "execution_count": 8,
   "id": "0456f3cd-d51a-4152-8259-1c6c6749dfa4",
   "metadata": {},
   "outputs": [
    {
     "name": "stdout",
     "output_type": "stream",
     "text": [
      "shinu\tST1001\tshinu128@gmail.com\n",
      "14 + 7 = 21\n",
      "14 - 7 = 7\n",
      "14 * 7 = 98\n",
      "14 / 7 = 2.0\n"
     ]
    }
   ],
   "source": [
    "name = \"shinu\"\n",
    "student_number = \"ST1001\"\n",
    "email = \"shinu128@gmail.com\"\n",
    "\n",
    "print(name + \"\\t\" + student_number + \"\\t\" + email)\n",
    "\n",
    "# Exercise 3: Perform arithmetic operations\n",
    "a = 14\n",
    "b = 7\n",
    "\n",
    "print(f\"{a} + {b} = {a + b}\")\n",
    "print(f\"{a} - {b} = {a - b}\")\n",
    "print(f\"{a} * {b} = {a * b}\")\n",
    "print(f\"{a} / {b} = {a / b}\")\n"
   ]
  },
  {
   "cell_type": "code",
   "execution_count": 10,
   "id": "b41eadb1-3ab0-40ee-a550-4f269aab8a70",
   "metadata": {},
   "outputs": [
    {
     "name": "stdout",
     "output_type": "stream",
     "text": [
      "1 2 3 4 5\n"
     ]
    }
   ],
   "source": [
    "# Exercise 4: Display numbers from 1 to 5 as steps\n",
    "print(\"1 2 3 4 5\")\n"
   ]
  },
  {
   "cell_type": "code",
   "execution_count": 12,
   "id": "82da4a81-edd3-4bf0-b375-23b110cf7092",
   "metadata": {},
   "outputs": [
    {
     "name": "stdout",
     "output_type": "stream",
     "text": [
      "\"SDK\" stands for \"Software Development Kit\", whereas \"IDE\" stands for \"Integrated Development Environment\".\n"
     ]
    }
   ],
   "source": [
    "# Exercise 5: Output sentence with quotation marks and line break\n",
    "print(\"\\\"SDK\\\" stands for \\\"Software Development Kit\\\", whereas \\\"IDE\\\" stands for \\\"Integrated Development Environment\\\".\")\n"
   ]
  },
  {
   "cell_type": "code",
   "execution_count": 14,
   "id": "cdcb1735-4f4b-48c3-8200-74e02b3e0a54",
   "metadata": {},
   "outputs": [
    {
     "name": "stdout",
     "output_type": "stream",
     "text": [
      "python is an \"awesome\" language.\n",
      "python\n",
      "\t2023\n",
      "I'm from Entri\n",
      "5\n",
      "e\n",
      "Entri\n",
      "2023\n",
      "Entr2023\n",
      "Entri*"
     ]
    }
   ],
   "source": [
    "# Exercise 6: Practice and check the output\n",
    "print(\"python is an \\\"awesome\\\" language.\")\n",
    "print(\"python\\n\\t2023\")\n",
    "print('I\\'m from Entri.\\b')\n",
    "print(\"\\65\")\n",
    "print(\"\\x65\")\n",
    "print(\"Entri\", \"2023\", sep=\"\\n\")\n",
    "print(\"Entri\", \"2023\", sep=\"\\b\")\n",
    "print(\"Entri\", \"2023\", sep=\"*\", end=\"\\b\\b\\b\\b\")\n"
   ]
  },
  {
   "cell_type": "code",
   "execution_count": 16,
   "id": "dc8bf24c-c631-447d-8582-92dbd0b4088a",
   "metadata": {},
   "outputs": [
    {
     "name": "stdout",
     "output_type": "stream",
     "text": [
      "<class 'int'>\n",
      "<class 'str'>\n",
      "<class 'float'>\n",
      "Sum: 178.3\n",
      "Type of sum: <class 'float'>\n"
     ]
    }
   ],
   "source": [
    "# Exercise 7: Variable types and sum calculation\n",
    "num = 23\n",
    "textnum = \"57\"\n",
    "decimal = 98.3\n",
    "\n",
    "print(type(num))\n",
    "print(type(textnum))\n",
    "print(type(decimal))\n",
    "\n",
    "sum_values = num + int(textnum) + decimal\n",
    "print(\"Sum:\", sum_values)\n",
    "print(\"Type of sum:\", type(sum_values))"
   ]
  },
  {
   "cell_type": "code",
   "execution_count": 18,
   "id": "f50b6fe3-5a66-4b3d-af45-f1ddb89195fa",
   "metadata": {},
   "outputs": [
    {
     "name": "stdout",
     "output_type": "stream",
     "text": [
      "The total number of minutes in a year is: 525600\n"
     ]
    }
   ],
   "source": [
    "# Exercise 8: Calculate minutes in a year\n",
    "days_in_year = 365\n",
    "minutes_in_hour = 60\n",
    "hours_in_day = 24\n",
    "\n",
    "total_minutes = days_in_year * hours_in_day * minutes_in_hour\n",
    "print(\"The total number of minutes in a year is:\", total_minutes)\n"
   ]
  },
  {
   "cell_type": "code",
   "execution_count": null,
   "id": "1a20b827-b909-4de4-879c-5515124acc02",
   "metadata": {},
   "outputs": [],
   "source": [
    "# Exercise 9: User input and greeting\n",
    "name = input(\"Please enter your name: \")\n",
    "print(f\"Hi {name}, welcome to Python programming :)\")\n"
   ]
  },
  {
   "cell_type": "code",
   "execution_count": null,
   "id": "c09e3f20-8317-4a4a-a013-fc8db92eaf4b",
   "metadata": {
    "scrolled": true
   },
   "outputs": [],
   "source": [
    "# PoundsToDollars.py\n",
    "\n",
    "# Set the exchange rate (example: 1 GBP = 1.25 USD)\n",
    "exchange_rate = 1.25  \n",
    "\n",
    "# Get user input\n",
    "pounds = float(input(\"Please enter amount in pounds: £ \"))\n",
    "\n",
    "# Convert to dollars\n",
    "dollars = pounds * exchange_rate\n",
    "\n",
    "# Display the result\n",
    "print(f\"£ {pounds} are $ {dollars:.2f}\")"
   ]
  },
  {
   "cell_type": "code",
   "execution_count": null,
   "id": "754203e2-b62f-4508-b044-ba22b937d105",
   "metadata": {},
   "outputs": [],
   "source": []
  }
 ],
 "metadata": {
  "kernelspec": {
   "display_name": "Python [conda env:base] *",
   "language": "python",
   "name": "conda-base-py"
  },
  "language_info": {
   "codemirror_mode": {
    "name": "ipython",
    "version": 3
   },
   "file_extension": ".py",
   "mimetype": "text/x-python",
   "name": "python",
   "nbconvert_exporter": "python",
   "pygments_lexer": "ipython3",
   "version": "3.12.7"
  }
 },
 "nbformat": 4,
 "nbformat_minor": 5
}
