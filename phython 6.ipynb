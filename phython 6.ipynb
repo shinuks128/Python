{
 "cells": [
  {
   "cell_type": "code",
   "execution_count": 2,
   "id": "648bb538-5fe6-4436-8715-a8a8afe77ce2",
   "metadata": {},
   "outputs": [
    {
     "name": "stdout",
     "output_type": "stream",
     "text": [
      "Core Course:\n",
      "Course Code: CS101\n",
      "Course Name: Introduction to Computer Science\n",
      "Credit Hours: 3\n",
      "Required for Major: Yes\n",
      "\n",
      "Elective Course:\n",
      "Course Code: HIS201\n",
      "Course Name: World History\n",
      "Credit Hours: 2\n",
      "Elective Type: liberal arts\n"
     ]
    }
   ],
   "source": [
    "# Base class\n",
    "class Course:\n",
    "    def __init__(self, course_code, course_name, credit_hours):\n",
    "        self.course_code = course_code\n",
    "        self.course_name = course_name\n",
    "        self.credit_hours = credit_hours\n",
    "\n",
    "    def display_info(self):\n",
    "        print(f\"Course Code: {self.course_code}\")\n",
    "        print(f\"Course Name: {self.course_name}\")\n",
    "        print(f\"Credit Hours: {self.credit_hours}\")\n",
    "\n",
    "# Subclass for core courses\n",
    "class CoreCourse(Course):\n",
    "    def __init__(self, course_code, course_name, credit_hours, required_for_major):\n",
    "        super().__init__(course_code, course_name, credit_hours)\n",
    "        self.required_for_major = required_for_major\n",
    "\n",
    "    def display_info(self):\n",
    "        super().display_info()\n",
    "        print(f\"Required for Major: {'Yes' if self.required_for_major else 'No'}\")\n",
    "\n",
    "# Subclass for elective courses\n",
    "class ElectiveCourse(Course):\n",
    "    def __init__(self, course_code, course_name, credit_hours, elective_type):\n",
    "        super().__init__(course_code, course_name, credit_hours)\n",
    "        self.elective_type = elective_type\n",
    "\n",
    "    def display_info(self):\n",
    "        super().display_info()\n",
    "        print(f\"Elective Type: {self.elective_type}\")\n",
    "\n",
    "# Example usage\n",
    "core = CoreCourse(\"CS101\", \"Introduction to Computer Science\", 3, True)\n",
    "elective = ElectiveCourse(\"HIS201\", \"World History\", 2, \"liberal arts\")\n",
    "\n",
    "print(\"Core Course:\")\n",
    "core.display_info()\n",
    "\n",
    "print(\"\\nElective Course:\")\n",
    "elective.display_info()\n"
   ]
  },
  {
   "cell_type": "code",
   "execution_count": 4,
   "id": "4a9cd290-0322-45d6-943e-71fb9e300604",
   "metadata": {},
   "outputs": [
    {
     "name": "stdout",
     "output_type": "stream",
     "text": [
      "Employee Name: Micheal Philips\n",
      "Employee Salary: 55000\n",
      "\n",
      "Employee Name: Hussain Bolt\n",
      "Employee Salary: 65000\n",
      "\n",
      "Employee Name: Dakota Johnson\n",
      "Employee Salary: 65000\n",
      "\n",
      "Employee Name: Angelina Jolie\n",
      "Employee Salary: 67000\n",
      "\n"
     ]
    }
   ],
   "source": [
    "# Employee class definition\n",
    "class Employee:\n",
    "    def __init__(self, name, salary):\n",
    "        self.name = name\n",
    "        self.salary = salary\n",
    "\n",
    "    def get_name(self):\n",
    "        return self.name\n",
    "\n",
    "    def get_salary(self):\n",
    "        return self.salary\n",
    "\n",
    "# Example usage\n",
    "employees = [\n",
    "    Employee(\"Micheal Philips\", 55000),\n",
    "    Employee(\"Hussain Bolt\", 65000),\n",
    "    Employee(\"Dakota Johnson\", 65000),\n",
    "    Employee(\"Angelina Jolie\", 67000)\n",
    "]\n",
    "\n",
    "for emp in employees:\n",
    "    print(\"Employee Name:\", emp.get_name())\n",
    "    print(\"Employee Salary:\", emp.get_salary())\n",
    "    print()\n"
   ]
  },
  {
   "cell_type": "code",
   "execution_count": null,
   "id": "c22a5310-1e25-4b9a-b451-c40c61a0305d",
   "metadata": {},
   "outputs": [],
   "source": []
  }
 ],
 "metadata": {
  "kernelspec": {
   "display_name": "Python [conda env:base] *",
   "language": "python",
   "name": "conda-base-py"
  },
  "language_info": {
   "codemirror_mode": {
    "name": "ipython",
    "version": 3
   },
   "file_extension": ".py",
   "mimetype": "text/x-python",
   "name": "python",
   "nbconvert_exporter": "python",
   "pygments_lexer": "ipython3",
   "version": "3.12.7"
  }
 },
 "nbformat": 4,
 "nbformat_minor": 5
}
