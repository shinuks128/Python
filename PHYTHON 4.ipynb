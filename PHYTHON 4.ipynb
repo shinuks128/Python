{
 "cells": [
  {
   "cell_type": "code",
   "execution_count": 2,
   "id": "9a7246ab-909a-4017-b571-c3619c4c7675",
   "metadata": {},
   "outputs": [
    {
     "name": "stdout",
     "output_type": "stream",
     "text": [
      "The length of the list is: 5\n"
     ]
    }
   ],
   "source": [
    "# Example list\n",
    "my_list = [1, 2, 3, 4, 5]\n",
    "\n",
    "# Using len() to get the length of the list\n",
    "list_length = len(my_list)\n",
    "\n",
    "# Print the length\n",
    "print(\"The length of the list is:\", list_length)\n"
   ]
  },
  {
   "cell_type": "code",
   "execution_count": 4,
   "id": "5779e732-88e0-4ee3-af58-19eb0c75b356",
   "metadata": {},
   "outputs": [
    {
     "name": "stdout",
     "output_type": "stream",
     "text": [
      "Hello, Alice!\n"
     ]
    }
   ],
   "source": [
    "# Function that greets a person by name\n",
    "def greet(name):\n",
    "    print(f\"Hello, {name}!\")\n",
    "\n",
    "# Calling the function with an example name\n",
    "greet(\"Alice\")\n"
   ]
  },
  {
   "cell_type": "code",
   "execution_count": 6,
   "id": "e328bb2c-307f-4577-ade8-7a4e1f165476",
   "metadata": {},
   "outputs": [
    {
     "name": "stdout",
     "output_type": "stream",
     "text": [
      "The maximum value is: 9\n"
     ]
    }
   ],
   "source": [
    "# Function to find the maximum value in a list without using max()\n",
    "def find_maximum(numbers):\n",
    "    # Assume the first number is the largest\n",
    "    max_value = numbers[0]\n",
    "    \n",
    "    # Loop through the list to compare each number\n",
    "    for num in numbers:\n",
    "        if num > max_value:\n",
    "            max_value = num\n",
    "    \n",
    "    return max_value\n",
    "\n",
    "# Calling the function with a list of numbers\n",
    "numbers_list = [3, 1, 4, 1, 5, 9, 2, 6]\n",
    "result = find_maximum(numbers_list)\n",
    "\n",
    "# Print the maximum value\n",
    "print(\"The maximum value is:\", result)\n"
   ]
  },
  {
   "cell_type": "code",
   "execution_count": null,
   "id": "bd8dbdfe-c34d-4099-8ba7-c4ff7a254ef1",
   "metadata": {},
   "outputs": [],
   "source": []
  }
 ],
 "metadata": {
  "kernelspec": {
   "display_name": "Python [conda env:base] *",
   "language": "python",
   "name": "conda-base-py"
  },
  "language_info": {
   "codemirror_mode": {
    "name": "ipython",
    "version": 3
   },
   "file_extension": ".py",
   "mimetype": "text/x-python",
   "name": "python",
   "nbconvert_exporter": "python",
   "pygments_lexer": "ipython3",
   "version": "3.12.7"
  }
 },
 "nbformat": 4,
 "nbformat_minor": 5
}
