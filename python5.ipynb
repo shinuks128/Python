{
 "cells": [
  {
   "cell_type": "code",
   "execution_count": null,
   "id": "11fbfa0f-f291-4ece-a897-a44cbb92eef6",
   "metadata": {},
   "outputs": [],
   "source": [
    "# Step 1: Ask the user to enter the filename\n",
    "filename = input(\"Enter the filename to read: \")\n",
    "\n",
    "# Step 2: Try to open the file\n",
    "try:\n",
    "    with open(filename, 'r') as file:\n",
    "        # Step 3: Read the contents of the file\n",
    "        contents = file.read()\n",
    "        # Step 4: Print the contents\n",
    "        print(\"File contents:\\n\", contents)\n",
    "except FileNotFoundError:\n",
    "    # Step 5a: Handle if the file is not found\n",
    "    print(\"File not found.\")\n",
    "except Exception as e:\n",
    "    # Step 5b: Handle any other kind of error\n",
    "    print(\"An error occurred:\", e)\n"
   ]
  },
  {
   "cell_type": "code",
   "execution_count": null,
   "id": "0782bbe8-b6ee-4426-b688-a96968c43016",
   "metadata": {},
   "outputs": [],
   "source": [
    "source = input(\"Enter source filename: \")\n",
    "destination = input(\"Enter destination filename: \")\n",
    "\n",
    "try:\n",
    "    with open(source, 'r') as src, open(destination, 'w') as dest:\n",
    "        contents = src.read()\n",
    "        dest.write(contents)\n",
    "    print(\"File copied successfully.\")\n",
    "except Exception as e:\n",
    "    print(\"An error occurred:\", e)\n"
   ]
  },
  {
   "cell_type": "code",
   "execution_count": null,
   "id": "51c1eb88-166e-4f46-a967-43ea3ed07013",
   "metadata": {},
   "outputs": [],
   "source": [
    "filename = input(\"Enter filename to count words: \")\n",
    "\n",
    "try:\n",
    "    with open(filename, 'r') as file:\n",
    "        contents = file.read()\n",
    "        words = contents.split()\n",
    "        print(\"Total number of words:\", len(words))\n",
    "except Exception as e:\n",
    "    print(\"An error occurred:\", e)\n"
   ]
  },
  {
   "cell_type": "code",
   "execution_count": null,
   "id": "ea391f32-f7d9-4121-8630-d58129004c10",
   "metadata": {},
   "outputs": [],
   "source": [
    "user_input = input(\"Enter a number: \")\n",
    "\n",
    "try:\n",
    "    number = int(user_input)\n",
    "    print(\"Converted number:\", number)\n",
    "except ValueError:\n",
    "    print(\"Invalid input! Please enter a valid integer.\")\n"
   ]
  },
  {
   "cell_type": "code",
   "execution_count": null,
   "id": "534bb70d-338d-4157-935f-b015d605f07b",
   "metadata": {},
   "outputs": [],
   "source": [
    "try:\n",
    "    numbers = list(map(int, input(\"Enter a list of integers separated by space: \").split()))\n",
    "    for num in numbers:\n",
    "        if num < 0:\n",
    "            raise ValueError(\"Negative numbers are not allowed!\")\n",
    "    print(\"All numbers are valid:\", numbers)\n",
    "except ValueError as e:\n",
    "    print(\"Error:\", e)\n"
   ]
  },
  {
   "cell_type": "code",
   "execution_count": null,
   "id": "a19c382b-4c07-4b40-881a-626129e7f189",
   "metadata": {},
   "outputs": [],
   "source": [
    "try:\n",
    "    numbers = list(map(int, input(\"Enter a list of integers separated by space: \").split()))\n",
    "    if not numbers:\n",
    "        raise ValueError(\"List is empty.\")\n",
    "    average = sum(numbers) / len(numbers)\n",
    "    print(\"Average:\", average)\n",
    "except ValueError as e:\n",
    "    print(\"Error:\", e)\n",
    "except Exception as e:\n",
    "    print(\"An unexpected error occurred:\", e)\n",
    "finally:\n",
    "    print(\"Program has finished running.\")\n"
   ]
  },
  {
   "cell_type": "code",
   "execution_count": null,
   "id": "1f5e363f-a517-41e4-a00a-3b29a8e6e52a",
   "metadata": {},
   "outputs": [],
   "source": [
    "filename = input(\"Enter the filename to write to: \")\n",
    "data = input(\"Enter a string to write to the file: \")\n",
    "\n",
    "try:\n",
    "    with open(filename, 'w') as file:\n",
    "        file.write(data)\n",
    "    print(\"Welcome! Data written successfully.\")\n",
    "except Exception as e:\n",
    "    print(\"An error occurred:\", e)\n"
   ]
  },
  {
   "cell_type": "code",
   "execution_count": null,
   "id": "f74626cb-2744-44f2-9476-c5f881692131",
   "metadata": {},
   "outputs": [],
   "source": []
  }
 ],
 "metadata": {
  "kernelspec": {
   "display_name": "Python [conda env:base] *",
   "language": "python",
   "name": "conda-base-py"
  },
  "language_info": {
   "codemirror_mode": {
    "name": "ipython",
    "version": 3
   },
   "file_extension": ".py",
   "mimetype": "text/x-python",
   "name": "python",
   "nbconvert_exporter": "python",
   "pygments_lexer": "ipython3",
   "version": "3.12.7"
  }
 },
 "nbformat": 4,
 "nbformat_minor": 5
}
