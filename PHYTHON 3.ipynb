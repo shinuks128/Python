{
 "cells": [
  {
   "cell_type": "code",
   "execution_count": null,
   "id": "9648a6c6-7985-49ba-921e-9f3ea5073b60",
   "metadata": {},
   "outputs": [],
   "source": [
    "# MonthNames.py\n",
    "\n",
    "month_number = int(input(\"Enter the month: \"))\n",
    "\n",
    "months = [\n",
    "    \"January\", \"February\", \"March\", \"April\", \"May\", \"June\",\n",
    "    \"July\", \"August\", \"September\", \"October\", \"November\", \"December\"\n",
    "]\n",
    "\n",
    "if 1 <= month_number <= 12:\n",
    "    print(f\"Month {month_number} is {months[month_number - 1]}\")\n",
    "else:\n",
    "    print(\"Invalid month number. Please enter a number between 1 and 12.\")\n"
   ]
  },
  {
   "cell_type": "code",
   "execution_count": null,
   "id": "c6293411-4a7b-489c-8c8c-88eaf7131188",
   "metadata": {},
   "outputs": [],
   "source": [
    "# TicketPrice.py\n",
    "\n",
    "age = int(input(\"Enter your age: \"))\n",
    "full_price = 6.0\n",
    "\n",
    "if age < 16:\n",
    "    ticket_price = full_price / 2\n",
    "elif age >= 60:\n",
    "    ticket_price = full_price / 3\n",
    "else:\n",
    "    ticket_price = full_price\n",
    "\n",
    "print(f\"Your ticket costs £{ticket_price:.2f}\")\n"
   ]
  },
  {
   "cell_type": "code",
   "execution_count": null,
   "id": "6befd679-6bf2-4e4f-9fae-4d90c95a58d5",
   "metadata": {},
   "outputs": [],
   "source": [
    "# BodyMassIndex.py\n",
    "\n",
    "weight = float(input(\"Enter your weight in (kg): \"))\n",
    "height = float(input(\"Enter your height in (m): \"))\n",
    "\n",
    "bmi = weight / (height ** 2)\n",
    "\n",
    "print(f\"Your BMI is: {bmi:.2f}\")\n",
    "\n",
    "if bmi < 18.5:\n",
    "    status = \"underweight\"\n",
    "elif 18.5 <= bmi <= 24.9:\n",
    "    status = \"normal\"\n",
    "elif 25 <= bmi <= 29.9:\n",
    "    status = \"overweight\"\n",
    "else:\n",
    "    status = \"obese\"\n",
    "\n",
    "print(f\"You are in the “{status}” range.\")\n"
   ]
  },
  {
   "cell_type": "code",
   "execution_count": null,
   "id": "1201f95e-3bb3-4517-a60a-7c5249bb19ad",
   "metadata": {},
   "outputs": [],
   "source": [
    "# GreatestOfThree.py\n",
    "\n",
    "num1 = float(input(\"Enter first number: \"))\n",
    "num2 = float(input(\"Enter second number: \"))\n",
    "num3 = float(input(\"Enter third number: \"))\n",
    "\n",
    "greatest = num1\n",
    "\n",
    "if num2 > greatest:\n",
    "    greatest = num2\n",
    "if num3 > greatest:\n",
    "    greatest = num3\n",
    "\n",
    "print(f\"The greatest number is: {greatest}\")\n"
   ]
  },
  {
   "cell_type": "code",
   "execution_count": null,
   "id": "37b91de3-e396-4675-a1ec-5527fb4ee6b9",
   "metadata": {},
   "outputs": [],
   "source": [
    "# Factorial.py\n",
    "\n",
    "number = int(input(\"Enter a number to find its factorial: \"))\n",
    "\n",
    "if number < 0:\n",
    "    print(\"Factorial is not defined for negative numbers.\")\n",
    "else:\n",
    "    factorial = 1\n",
    "    for i in range(1, number + 1):\n",
    "        factorial *= i\n",
    "\n",
    "    print(f\"The factorial of {number} is: {factorial}\")\n"
   ]
  },
  {
   "cell_type": "code",
   "execution_count": null,
   "id": "b8b58ac8-e246-4891-9f6d-94dc0949aebe",
   "metadata": {},
   "outputs": [],
   "source": [
    "# ReverseNumber.py\n",
    "\n",
    "number = int(input(\"Enter a number to reverse: \"))\n",
    "reversed_number = 0\n",
    "\n",
    "while number != 0:\n",
    "    digit = number % 10\n",
    "    reversed_number = reversed_number * 10 + digit\n",
    "    number = number // 10\n",
    "\n",
    "print(f\"The reversed number is: {reversed_number}\")\n"
   ]
  },
  {
   "cell_type": "code",
   "execution_count": null,
   "id": "5c8308f3-9cd0-4ebd-ba6b-3c9b386d3bdd",
   "metadata": {},
   "outputs": [],
   "source": [
    "# Multiples.py\n",
    "\n",
    "number = int(input(\"Enter a number to find its multiples: \"))\n",
    "limit = int(input(\"Enter how many multiples you want: \"))\n",
    "\n",
    "print(f\"The first {limit} multiples of {number} are:\")\n",
    "\n",
    "for i in range(1, limit + 1):\n",
    "    print(number * i)\n"
   ]
  },
  {
   "cell_type": "code",
   "execution_count": null,
   "id": "51d94a28-ceb6-453c-ab4c-4629f3cb6e45",
   "metadata": {},
   "outputs": [],
   "source": [
    "# EchoUntilDone.py\n",
    "\n",
    "while True:\n",
    "    user_input = input(\":\")\n",
    "    if user_input.lower() == \"done\":\n",
    "        print(\"Done\")\n",
    "        break\n",
    "    else:\n",
    "        print(user_input)\n"
   ]
  },
  {
   "cell_type": "code",
   "execution_count": 1,
   "id": "d21bfbe8-5bd5-4173-ab59-52e24e94e5a1",
   "metadata": {},
   "outputs": [
    {
     "name": "stdout",
     "output_type": "stream",
     "text": [
      "1\n",
      "2\n",
      "Fizz\n",
      "4\n",
      "Buzz\n",
      "Fizz\n",
      "7\n",
      "8\n",
      "Fizz\n",
      "Buzz\n"
     ]
    }
   ],
   "source": [
    "# FizzBuzz.py\n",
    "\n",
    "for i in range(1, 11):\n",
    "    if i % 3 == 0 and i % 5 == 0:\n",
    "        print(\"FizzBuzz\")\n",
    "    elif i % 3 == 0:\n",
    "        print(\"Fizz\")\n",
    "    elif i % 5 == 0:\n",
    "        print(\"Buzz\")\n",
    "    else:\n",
    "        print(i)\n"
   ]
  },
  {
   "cell_type": "code",
   "execution_count": 2,
   "id": "5845d734-c984-4d5e-ba17-2d5a7888772a",
   "metadata": {},
   "outputs": [
    {
     "name": "stdout",
     "output_type": "stream",
     "text": [
      "5 4 3 2 1 \n",
      "4 3 2 1 \n",
      "3 2 1 \n",
      "2 1 \n",
      "1 \n"
     ]
    }
   ],
   "source": [
    "# Pattern.py\n",
    "\n",
    "for i in range(5, 0, -1):\n",
    "    for j in range(i, 0, -1):\n",
    "        print(j, end=\" \")\n",
    "    print()\n"
   ]
  },
  {
   "cell_type": "code",
   "execution_count": null,
   "id": "b8abc772-6d3d-44c9-89a4-62e47ed88b86",
   "metadata": {},
   "outputs": [],
   "source": []
  }
 ],
 "metadata": {
  "kernelspec": {
   "display_name": "Python [conda env:base] *",
   "language": "python",
   "name": "conda-base-py"
  },
  "language_info": {
   "codemirror_mode": {
    "name": "ipython",
    "version": 3
   },
   "file_extension": ".py",
   "mimetype": "text/x-python",
   "name": "python",
   "nbconvert_exporter": "python",
   "pygments_lexer": "ipython3",
   "version": "3.12.7"
  }
 },
 "nbformat": 4,
 "nbformat_minor": 5
}
